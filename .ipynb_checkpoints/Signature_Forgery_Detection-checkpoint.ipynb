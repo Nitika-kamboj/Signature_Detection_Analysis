{
 "cells": [
  {
   "cell_type": "code",
   "execution_count": 1,
   "metadata": {
    "colab": {
     "base_uri": "https://localhost:8080/",
     "height": 108
    },
    "colab_type": "code",
    "id": "Vy4uAngJJDgY",
    "outputId": "d75d1444-c05b-479a-dd41-58034ed76b5e"
   },
   "outputs": [
    {
     "name": "stdout",
     "output_type": "stream",
     "text": [
      "Cloning into 'Signature_Detection_Analysis'...\n",
      "remote: Enumerating objects: 439, done.\u001b[K\n",
      "remote: Total 439 (delta 0), reused 0 (delta 0), pack-reused 439\u001b[K\n",
      "Receiving objects: 100% (439/439), 133.42 MiB | 10.78 MiB/s, done.\n",
      "Resolving deltas: 100% (223/223), done.\n"
     ]
    }
   ],
   "source": [
    "# !git clone https://github.com/SHIVITG/Signature_Detection_Analysis.git"
   ]
  },
  {
   "cell_type": "code",
   "execution_count": 2,
   "metadata": {
    "colab": {
     "base_uri": "https://localhost:8080/",
     "height": 35
    },
    "colab_type": "code",
    "id": "XCSTfkEpJEKc",
    "outputId": "51498283-dece-4627-cfed-e27c9fa8bbef"
   },
   "outputs": [
    {
     "name": "stdout",
     "output_type": "stream",
     "text": [
      "/content/Signature_Detection_Analysis\n"
     ]
    }
   ],
   "source": [
    "# cd Signature_Detection_Analysis/"
   ]
  },
  {
   "cell_type": "code",
   "execution_count": 3,
   "metadata": {
    "colab": {
     "base_uri": "https://localhost:8080/",
     "height": 181
    },
    "colab_type": "code",
    "id": "gse6k84sJitu",
    "outputId": "9beb9ebf-a90a-4d37-d3b7-87da77168bc7"
   },
   "outputs": [
    {
     "name": "stdout",
     "output_type": "stream",
     "text": [
      "'Automatic Signature Stability Analysis And Verification Using Local Features.ipynb'\n",
      " Automatic-Signature-Stability-Analysis-And-Verification-Using-Local-Features.pdf\n",
      " CNN_BHSig260.ipynb\n",
      " \u001b[0m\u001b[01;34minput_data\u001b[0m/\n",
      "'Kernel Based Classifier.ipynb'\n",
      " modifyBHSig260.py\n",
      " README.md\n",
      " \u001b[01;34mResults\u001b[0m/\n",
      " Siamese_BHSig260.ipynb\n"
     ]
    }
   ],
   "source": [
    "# ls"
   ]
  },
  {
   "cell_type": "code",
   "execution_count": 4,
   "metadata": {
    "colab": {
     "base_uri": "https://localhost:8080/",
     "height": 35
    },
    "colab_type": "code",
    "id": "LKv5cT_ZJtU7",
    "outputId": "3e6aa306-ab26-42e4-d777-7bd56719814c"
   },
   "outputs": [
    {
     "name": "stderr",
     "output_type": "stream",
     "text": [
      "Using TensorFlow backend.\n"
     ]
    }
   ],
   "source": [
    "import sys\n",
    "import numpy as np\n",
    "import pickle\n",
    "import os\n",
    "import matplotlib.pyplot as plt\n",
    "%matplotlib inline\n",
    "\n",
    "import cv2\n",
    "import time\n",
    "import itertools\n",
    "import random\n",
    "\n",
    "from sklearn.utils import shuffle\n",
    "from sklearn.model_selection import train_test_split\n",
    "import keras\n",
    "import tensorflow as tf\n",
    "from keras import models\n",
    "from keras.models import Sequential\n",
    "from keras.optimizers import Adam, RMSprop\n",
    "from keras.layers import Conv2D, ZeroPadding2D, Activation, Input, concatenate, Dropout\n",
    "from keras.models import Model\n",
    "\n",
    "from keras.layers.normalization import BatchNormalization\n",
    "from keras.layers.pooling import MaxPooling2D\n",
    "from keras.layers.merge import Concatenate\n",
    "from keras.layers.core import Lambda, Flatten, Dense\n",
    "from keras.initializers import glorot_uniform\n",
    "\n",
    "from keras.engine.topology import Layer, InputSpec\n",
    "from keras.regularizers import l2\n",
    "from keras import backend as K\n",
    "import keras.backend.tensorflow_backend as tfback\n",
    "from keras.callbacks import EarlyStopping, ModelCheckpoint, ReduceLROnPlateau\n",
    "from keras.utils.multi_gpu_utils import multi_gpu_model\n",
    "# from tensorflow.python.client import device_lib\n",
    "# print(device_lib.list_local_devices())\n",
    "# tf.debugging.set_log_device_placement(True)"
   ]
  },
  {
   "cell_type": "code",
   "execution_count": 16,
   "metadata": {
    "colab": {
     "base_uri": "https://localhost:8080/",
     "height": 92
    },
    "colab_type": "code",
    "id": "MF-xSfsfJ1xr",
    "outputId": "e6104c4f-6d77-470a-8c8f-2f0c4c091e39"
   },
   "outputs": [
    {
     "name": "stdout",
     "output_type": "stream",
     "text": [
      "['001', '002']\n",
      "['input_data/BHSig260/Hindi/001/H-S-1-F-01.tif', 'input_data/BHSig260/Hindi/001/H-S-1-F-02.tif', 'input_data/BHSig260/Hindi/001/H-S-1-F-03.tif', 'input_data/BHSig260/Hindi/001/H-S-1-F-04.tif', 'input_data/BHSig260/Hindi/001/H-S-1-F-05.tif', 'input_data/BHSig260/Hindi/001/H-S-1-F-06.tif', 'input_data/BHSig260/Hindi/001/H-S-1-F-07.tif', 'input_data/BHSig260/Hindi/001/H-S-1-F-08.tif', 'input_data/BHSig260/Hindi/001/H-S-1-F-09.tif', 'input_data/BHSig260/Hindi/001/H-S-1-F-10.tif', 'input_data/BHSig260/Hindi/001/H-S-1-F-11.tif', 'input_data/BHSig260/Hindi/001/H-S-1-F-12.tif', 'input_data/BHSig260/Hindi/001/H-S-1-F-13.tif', 'input_data/BHSig260/Hindi/001/H-S-1-F-14.tif', 'input_data/BHSig260/Hindi/001/H-S-1-F-15.tif', 'input_data/BHSig260/Hindi/001/H-S-1-F-16.tif', 'input_data/BHSig260/Hindi/001/H-S-1-F-17.tif', 'input_data/BHSig260/Hindi/001/H-S-1-F-18.tif', 'input_data/BHSig260/Hindi/001/H-S-1-F-19.tif', 'input_data/BHSig260/Hindi/001/H-S-1-F-20.tif', 'input_data/BHSig260/Hindi/001/H-S-1-F-21.tif', 'input_data/BHSig260/Hindi/001/H-S-1-F-22.tif', 'input_data/BHSig260/Hindi/001/H-S-1-F-23.tif', 'input_data/BHSig260/Hindi/001/H-S-1-F-24.tif', 'input_data/BHSig260/Hindi/001/H-S-1-F-25.tif', 'input_data/BHSig260/Hindi/001/H-S-1-F-26.tif', 'input_data/BHSig260/Hindi/001/H-S-1-F-27.tif', 'input_data/BHSig260/Hindi/001/H-S-1-F-28.tif', 'input_data/BHSig260/Hindi/001/H-S-1-F-29.tif', 'input_data/BHSig260/Hindi/001/H-S-1-F-30.tif', 'input_data/BHSig260/Hindi/001/H-S-1-G-01.tif', 'input_data/BHSig260/Hindi/001/H-S-1-G-02.tif', 'input_data/BHSig260/Hindi/001/H-S-1-G-03.tif', 'input_data/BHSig260/Hindi/001/H-S-1-G-04.tif', 'input_data/BHSig260/Hindi/001/H-S-1-G-05.tif', 'input_data/BHSig260/Hindi/001/H-S-1-G-06.tif', 'input_data/BHSig260/Hindi/001/H-S-1-G-07.tif', 'input_data/BHSig260/Hindi/001/H-S-1-G-08.tif', 'input_data/BHSig260/Hindi/001/H-S-1-G-09.tif', 'input_data/BHSig260/Hindi/001/H-S-1-G-10.tif', 'input_data/BHSig260/Hindi/001/H-S-1-G-11.tif', 'input_data/BHSig260/Hindi/001/H-S-1-G-12.tif', 'input_data/BHSig260/Hindi/001/H-S-1-G-13.tif', 'input_data/BHSig260/Hindi/001/H-S-1-G-14.tif', 'input_data/BHSig260/Hindi/001/H-S-1-G-15.tif', 'input_data/BHSig260/Hindi/001/H-S-1-G-16.tif', 'input_data/BHSig260/Hindi/001/H-S-1-G-17.tif', 'input_data/BHSig260/Hindi/001/H-S-1-G-18.tif', 'input_data/BHSig260/Hindi/001/H-S-1-G-19.tif', 'input_data/BHSig260/Hindi/001/H-S-1-G-20.tif', 'input_data/BHSig260/Hindi/001/H-S-1-G-21.tif', 'input_data/BHSig260/Hindi/001/H-S-1-G-22.tif', 'input_data/BHSig260/Hindi/001/H-S-1-G-23.tif', 'input_data/BHSig260/Hindi/001/H-S-1-G-24.tif']\n",
      "['input_data/BHSig260/Hindi/002/H-S-2-F-01.tif', 'input_data/BHSig260/Hindi/002/H-S-2-F-02.tif', 'input_data/BHSig260/Hindi/002/H-S-2-F-03.tif', 'input_data/BHSig260/Hindi/002/H-S-2-F-04.tif', 'input_data/BHSig260/Hindi/002/H-S-2-F-05.tif', 'input_data/BHSig260/Hindi/002/H-S-2-F-06.tif', 'input_data/BHSig260/Hindi/002/H-S-2-F-07.tif', 'input_data/BHSig260/Hindi/002/H-S-2-F-08.tif', 'input_data/BHSig260/Hindi/002/H-S-2-F-09.tif', 'input_data/BHSig260/Hindi/002/H-S-2-F-10.tif', 'input_data/BHSig260/Hindi/002/H-S-2-F-11.tif', 'input_data/BHSig260/Hindi/002/H-S-2-F-12.tif', 'input_data/BHSig260/Hindi/002/H-S-2-F-13.tif', 'input_data/BHSig260/Hindi/002/H-S-2-F-14.tif', 'input_data/BHSig260/Hindi/002/H-S-2-F-15.tif', 'input_data/BHSig260/Hindi/002/H-S-2-F-16.tif', 'input_data/BHSig260/Hindi/002/H-S-2-F-17.tif', 'input_data/BHSig260/Hindi/002/H-S-2-F-18.tif', 'input_data/BHSig260/Hindi/002/H-S-2-F-19.tif', 'input_data/BHSig260/Hindi/002/H-S-2-F-20.tif', 'input_data/BHSig260/Hindi/002/H-S-2-F-21.tif', 'input_data/BHSig260/Hindi/002/H-S-2-F-22.tif', 'input_data/BHSig260/Hindi/002/H-S-2-F-23.tif', 'input_data/BHSig260/Hindi/002/H-S-2-F-24.tif', 'input_data/BHSig260/Hindi/002/H-S-2-F-25.tif', 'input_data/BHSig260/Hindi/002/H-S-2-F-26.tif', 'input_data/BHSig260/Hindi/002/H-S-2-F-27.tif', 'input_data/BHSig260/Hindi/002/H-S-2-F-28.tif', 'input_data/BHSig260/Hindi/002/H-S-2-F-29.tif', 'input_data/BHSig260/Hindi/002/H-S-2-F-30.tif', 'input_data/BHSig260/Hindi/002/H-S-2-G-01.tif', 'input_data/BHSig260/Hindi/002/H-S-2-G-02.tif', 'input_data/BHSig260/Hindi/002/H-S-2-G-03.tif', 'input_data/BHSig260/Hindi/002/H-S-2-G-04.tif', 'input_data/BHSig260/Hindi/002/H-S-2-G-05.tif', 'input_data/BHSig260/Hindi/002/H-S-2-G-06.tif', 'input_data/BHSig260/Hindi/002/H-S-2-G-07.tif', 'input_data/BHSig260/Hindi/002/H-S-2-G-08.tif', 'input_data/BHSig260/Hindi/002/H-S-2-G-09.tif', 'input_data/BHSig260/Hindi/002/H-S-2-G-10.tif', 'input_data/BHSig260/Hindi/002/H-S-2-G-11.tif', 'input_data/BHSig260/Hindi/002/H-S-2-G-12.tif', 'input_data/BHSig260/Hindi/002/H-S-2-G-13.tif', 'input_data/BHSig260/Hindi/002/H-S-2-G-14.tif', 'input_data/BHSig260/Hindi/002/H-S-2-G-15.tif', 'input_data/BHSig260/Hindi/002/H-S-2-G-16.tif', 'input_data/BHSig260/Hindi/002/H-S-2-G-17.tif', 'input_data/BHSig260/Hindi/002/H-S-2-G-18.tif', 'input_data/BHSig260/Hindi/002/H-S-2-G-19.tif', 'input_data/BHSig260/Hindi/002/H-S-2-G-20.tif', 'input_data/BHSig260/Hindi/002/H-S-2-G-21.tif', 'input_data/BHSig260/Hindi/002/H-S-2-G-22.tif', 'input_data/BHSig260/Hindi/002/H-S-2-G-23.tif', 'input_data/BHSig260/Hindi/002/H-S-2-G-24.tif']\n"
     ]
    }
   ],
   "source": [
    "path_hindi = \"input_data/BHSig260/Hindi/\"\n",
    "# Get the list of all directories and sort them\n",
    "dir_list = next(os.walk(path_hindi))[1]\n",
    "dir_list.sort()\n",
    "\n",
    "print(dir_list)\n",
    "orig_groups, forg_groups = [], []\n",
    "for directory in dir_list:\n",
    "    images = os.listdir(path_hindi+directory)\n",
    "    images.sort()\n",
    "    images = [path_hindi+directory+'/'+x for x in images]\n",
    "    forg_groups.append(images[:30]) # First 30 signatures in each folder are forrged\n",
    "    orig_groups.append(images[30:])"
   ]
  },
  {
   "cell_type": "code",
   "execution_count": 0,
   "metadata": {
    "colab": {},
    "colab_type": "code",
    "id": "bIq_sL7pJ_K2"
   },
   "outputs": [],
   "source": [
    "path_bengali = \"input_data/BHSig260/Bengali/\"\n",
    "dir_list = next(os.walk(path_bengali))[1]\n",
    "dir_list.sort()\n",
    "for directory in dir_list:\n",
    "    images = os.listdir(path_bengali+directory)\n",
    "    images.sort()\n",
    "    images = [path_bengali+directory+'/'+x for x in images]\n",
    "    forg_groups.append(images[:30]) # First 30 signatures in each folder are forrged\n",
    "    orig_groups.append(images[30:])"
   ]
  },
  {
   "cell_type": "code",
   "execution_count": 18,
   "metadata": {
    "colab": {
     "base_uri": "https://localhost:8080/",
     "height": 54
    },
    "colab_type": "code",
    "id": "YixvxMBYKMfu",
    "outputId": "055866ec-e1de-4646-fe83-b2fd607fc713"
   },
   "outputs": [
    {
     "name": "stdout",
     "output_type": "stream",
     "text": [
      "4 4\n",
      "[24, 24, 24, 24]\n"
     ]
    }
   ],
   "source": [
    "print(len(orig_groups), len(forg_groups))\n",
    "\n",
    "orig_lengths = [len(x) for x in orig_groups]\n",
    "forg_lengths = [len(x) for x in forg_groups]\n",
    "\n",
    "# Quick check to confirm that there are 24 Genuine signatures for each individual\n",
    "print(orig_lengths)"
   ]
  },
  {
   "cell_type": "code",
   "execution_count": 19,
   "metadata": {
    "colab": {
     "base_uri": "https://localhost:8080/",
     "height": 35
    },
    "colab_type": "code",
    "id": "7hKDDeadKQ00",
    "outputId": "ffb0a100-3d8e-440e-8fae-ed05e01e1386"
   },
   "outputs": [
    {
     "name": "stdout",
     "output_type": "stream",
     "text": [
      "2 1 1\n"
     ]
    }
   ],
   "source": [
    "orig_train, orig_test, forg_train, forg_test = train_test_split(orig_groups, forg_groups, test_size=0.2, random_state=1)\n",
    "orig_train, orig_val, forg_train, forg_val = train_test_split(orig_train, forg_train, test_size=0.25, random_state=1)\n",
    "\n",
    "print(len(orig_train),len(orig_val),len(orig_test))"
   ]
  },
  {
   "cell_type": "code",
   "execution_count": 0,
   "metadata": {
    "colab": {},
    "colab_type": "code",
    "id": "MhR1vfu8MZQs"
   },
   "outputs": [],
   "source": [
    "del orig_groups, forg_groups\n",
    "\n",
    "img_h, img_w = 155, 220\n",
    "\n",
    "def visualize_sample_signature():\n",
    "    '''Function to randomly select a signature from train set and\n",
    "    print two genuine copies and one forged copy'''\n",
    "    fig, (ax1, ax2, ax3) = plt.subplots(1, 3, figsize = (10, 10))\n",
    "    k = np.random.randint(len(orig_train))\n",
    "    orig_img_names = random.sample(orig_train[k], 2)\n",
    "    forg_img_name = random.sample(forg_train[k], 1)\n",
    "    orig_img1 = cv2.imread(orig_img_names[0], 0)\n",
    "    orig_img2 = cv2.imread(orig_img_names[1], 0)\n",
    "    forg_img = plt.imread(forg_img_name[0], 0)\n",
    "    orig_img1 = cv2.resize(orig_img1, (img_w, img_h))\n",
    "    orig_img2 = cv2.resize(orig_img2, (img_w, img_h))\n",
    "    forg_img = cv2.resize(forg_img, (img_w, img_h))\n",
    "\n",
    "    ax1.imshow(orig_img1, cmap = 'gray')\n",
    "    ax2.imshow(orig_img2, cmap = 'gray')\n",
    "    ax3.imshow(forg_img, cmap = 'gray')\n",
    "\n",
    "    ax1.set_title('Genuine Copy')\n",
    "    ax1.axis('off')\n",
    "    ax2.set_title('Genuine Copy')\n",
    "    ax2.axis('off')\n",
    "    ax3.set_title('Forged Copy')\n",
    "    ax3.axis('off')"
   ]
  },
  {
   "cell_type": "code",
   "execution_count": 21,
   "metadata": {
    "colab": {
     "base_uri": "https://localhost:8080/",
     "height": 163
    },
    "colab_type": "code",
    "id": "64HPBkbK_iaj",
    "outputId": "9bcdf266-a23a-473f-e8d4-855aaf977fd5"
   },
   "outputs": [
    {
     "data": {
      "image/png": "[encoded data removed]",
      "text/plain": [
       "<Figure size 720x720 with 3 Axes>"
      ]
     },
     "metadata": {
      "needs_background": "light",
      "tags": []
     },
     "output_type": "display_data"
    }
   ],
   "source": [
    "visualize_sample_signature()"
   ]
  },
  {
   "cell_type": "code",
   "execution_count": 23,
   "metadata": {
    "colab": {
     "base_uri": "https://localhost:8080/",
     "height": 54
    },
    "colab_type": "code",
    "id": "rdsubSqTP45A",
    "outputId": "5da41046-996c-433f-fd69-de29ab69aec4"
   },
   "outputs": [
    {
     "name": "stdout",
     "output_type": "stream",
     "text": [
      "tf.__version__ is 2.2.0\n",
      "tf.keras.__version__ is: 2.3.0-tf\n"
     ]
    }
   ],
   "source": [
    "import tensorflow as tf\n",
    "import keras.backend.tensorflow_backend as tfback\n",
    "print(\"tf.__version__ is\", tf.__version__)\n",
    "print(\"tf.keras.__version__ is:\", tf.keras.__version__)\n",
    "\n",
    "def _get_available_gpus():\n",
    "    \"\"\"Get a list of available gpu devices (formatted as strings).\n",
    "\n",
    "    # Returns\n",
    "        A list of available GPU devices.\n",
    "    \"\"\"\n",
    "    #global _LOCAL_DEVICES\n",
    "    if tfback._LOCAL_DEVICES is None:\n",
    "        devices = tf.config.list_logical_devices()\n",
    "        tfback._LOCAL_DEVICES = [x.name for x in devices]\n",
    "    return [x for x in tfback._LOCAL_DEVICES if 'device:gpu' in x.lower()]\n",
    "\n",
    "tfback._get_available_gpus = _get_available_gpus"
   ]
  },
  {
   "cell_type": "code",
   "execution_count": 24,
   "metadata": {
    "colab": {
     "base_uri": "https://localhost:8080/",
     "height": 255
    },
    "colab_type": "code",
    "id": "MQDul7bxOY__",
    "outputId": "821d56e5-eaae-4798-f855-326ebc48abfb"
   },
   "outputs": [
    {
     "name": "stderr",
     "output_type": "stream",
     "text": [
      "/usr/local/lib/python3.6/dist-packages/ipykernel_launcher.py:94: UserWarning: Update your `Conv2D` call to the Keras 2 API: `Conv2D(96, kernel_size=(11, 11), activation=\"relu\", name=\"conv1_1\", strides=4, input_shape=(155, 220,..., data_format=\"channels_last\", kernel_initializer=\"glorot_uniform\")`\n",
      "/usr/local/lib/python3.6/dist-packages/ipykernel_launcher.py:95: UserWarning: Update your `BatchNormalization` call to the Keras 2 API: `BatchNormalization(epsilon=1e-06, axis=1, momentum=0.9)`\n",
      "/usr/local/lib/python3.6/dist-packages/ipykernel_launcher.py:97: UserWarning: Update your `ZeroPadding2D` call to the Keras 2 API: `ZeroPadding2D((2, 2), data_format=\"channels_last\")`\n",
      "/usr/local/lib/python3.6/dist-packages/ipykernel_launcher.py:99: UserWarning: Update your `Conv2D` call to the Keras 2 API: `Conv2D(256, kernel_size=(5, 5), activation=\"relu\", name=\"conv2_1\", strides=1, data_format=\"channels_last\", kernel_initializer=\"glorot_uniform\")`\n",
      "/usr/local/lib/python3.6/dist-packages/ipykernel_launcher.py:100: UserWarning: Update your `BatchNormalization` call to the Keras 2 API: `BatchNormalization(epsilon=1e-06, axis=1, momentum=0.9)`\n",
      "/usr/local/lib/python3.6/dist-packages/ipykernel_launcher.py:103: UserWarning: Update your `ZeroPadding2D` call to the Keras 2 API: `ZeroPadding2D((1, 1), data_format=\"channels_last\")`\n",
      "/usr/local/lib/python3.6/dist-packages/ipykernel_launcher.py:105: UserWarning: Update your `Conv2D` call to the Keras 2 API: `Conv2D(384, kernel_size=(3, 3), activation=\"relu\", name=\"conv3_1\", strides=1, data_format=\"channels_last\", kernel_initializer=\"glorot_uniform\")`\n",
      "/usr/local/lib/python3.6/dist-packages/ipykernel_launcher.py:106: UserWarning: Update your `ZeroPadding2D` call to the Keras 2 API: `ZeroPadding2D((1, 1), data_format=\"channels_last\")`\n",
      "/usr/local/lib/python3.6/dist-packages/ipykernel_launcher.py:108: UserWarning: Update your `Conv2D` call to the Keras 2 API: `Conv2D(256, kernel_size=(3, 3), activation=\"relu\", name=\"conv3_2\", strides=1, data_format=\"channels_last\", kernel_initializer=\"glorot_uniform\")`\n",
      "/usr/local/lib/python3.6/dist-packages/ipykernel_launcher.py:112: UserWarning: Update your `Dense` call to the Keras 2 API: `Dense(1024, activation=\"relu\", kernel_initializer=\"glorot_uniform\", kernel_regularizer=<keras.reg...)`\n",
      "/usr/local/lib/python3.6/dist-packages/ipykernel_launcher.py:115: UserWarning: Update your `Dense` call to the Keras 2 API: `Dense(128, activation=\"relu\", kernel_initializer=\"glorot_uniform\", kernel_regularizer=<keras.reg...)`\n",
      "/usr/local/lib/python3.6/dist-packages/ipykernel_launcher.py:137: UserWarning: Update your `Model` call to the Keras 2 API: `Model(name=\"head_model\", inputs=[<tf.Tenso..., outputs=Tensor(\"la...)`\n"
     ]
    }
   ],
   "source": [
    "def generate_batch(orig_groups, forg_groups, batch_size = 32):\n",
    "    '''Function to generate a batch of data with batch_size number of data points\n",
    "    Half of the data points will be Genuine-Genuine pairs and half will be Genuine-Forged pairs'''\n",
    "    while True:\n",
    "        orig_pairs = []\n",
    "        forg_pairs = []\n",
    "        gen_gen_labels = []\n",
    "        gen_for_labels = []\n",
    "        all_pairs = []\n",
    "        all_labels = []\n",
    "        \n",
    "        # Here we create pairs of Genuine-Genuine image names and Genuine-Forged image names\n",
    "        # For every person we have 24 genuine signatures, hence we have \n",
    "        # 24 choose 2 = 276 Genuine-Genuine image pairs for one person.\n",
    "        # To make Genuine-Forged pairs, we pair every Genuine signature of a person\n",
    "        # with 12 randomly sampled Forged signatures of the same person.\n",
    "        # Thus we make 24 * 12 = 300 Genuine-Forged image pairs for one person.\n",
    "        # In all we have 120 person's data in the training data.\n",
    "        # Total no. of Genuine-Genuine pairs = 120 * 276 = 33120\n",
    "        # Total number of Genuine-Forged pairs = 120 * 300 = 36000\n",
    "        # Total no. of data points = 33120 + 36000 = 69120\n",
    "        for orig, forg in zip(orig_groups, forg_groups):\n",
    "            orig_pairs.extend(list(itertools.combinations(orig, 2)))\n",
    "            for i in range(len(forg)):\n",
    "                forg_pairs.extend(list(itertools.product(orig[i:i+1], random.sample(forg, 12))))\n",
    "        \n",
    "        # Label for Genuine-Genuine pairs is 1\n",
    "        # Label for Genuine-Forged pairs is 0\n",
    "        gen_gen_labels = [1]*len(orig_pairs)\n",
    "        gen_for_labels = [0]*len(forg_pairs)\n",
    "        \n",
    "        # Concatenate all the pairs together along with their labels and shuffle them\n",
    "        all_pairs = orig_pairs + forg_pairs\n",
    "        all_labels = gen_gen_labels + gen_for_labels\n",
    "        del orig_pairs, forg_pairs, gen_gen_labels, gen_for_labels\n",
    "        all_pairs, all_labels = shuffle(all_pairs, all_labels)\n",
    "        \n",
    "        # Note the lists above contain only the image names and\n",
    "        # actual images are loaded and yielded below in batches\n",
    "        # Below we prepare a batch of data points and yield the batch\n",
    "        # In each batch we load \"batch_size\" number of image pairs\n",
    "        # These images are then removed from the original set so that\n",
    "        # they are not added again in the next batch.\n",
    "            \n",
    "        k = 0\n",
    "        pairs=[np.zeros((batch_size, img_h, img_w, 1)) for i in range(2)]\n",
    "        targets=np.zeros((batch_size,))\n",
    "        for ix, pair in enumerate(all_pairs):\n",
    "            img1 = cv2.imread(pair[0], 0)\n",
    "            img2 = cv2.imread(pair[1], 0)\n",
    "            img1 = cv2.resize(img1, (img_w, img_h))\n",
    "            img2 = cv2.resize(img2, (img_w, img_h))\n",
    "            img1 = np.array(img1, dtype = np.float64)\n",
    "            img2 = np.array(img2, dtype = np.float64)\n",
    "            img1 /= 255\n",
    "            img2 /= 255\n",
    "            img1 = img1[..., np.newaxis]\n",
    "            img2 = img2[..., np.newaxis]\n",
    "            pairs[0][k, :, :, :] = img1\n",
    "            pairs[1][k, :, :, :] = img2\n",
    "            targets[k] = all_labels[ix]\n",
    "            k += 1\n",
    "            if k == batch_size:\n",
    "                yield pairs, targets\n",
    "                k = 0\n",
    "                pairs=[np.zeros((batch_size, img_h, img_w, 1)) for i in range(2)]\n",
    "                targets=np.zeros((batch_size,))\n",
    "\n",
    "\n",
    "def euclidean_distance(vects):\n",
    "    '''Compute Euclidean Distance between two vectors'''\n",
    "    x, y = vects\n",
    "    return K.sqrt(K.sum(K.square(x - y), axis=1, keepdims=True))\n",
    "\n",
    "\n",
    "def eucl_dist_output_shape(shapes):\n",
    "    shape1, shape2 = shapes\n",
    "    return (shape1[0], 1)\n",
    "\n",
    "\n",
    "def contrastive_loss(y_true, y_pred):\n",
    "    '''Contrastive loss from Hadsell-et-al.'06\n",
    "    http://yann.lecun.com/exdb/publis/pdf/hadsell-chopra-lecun-06.pdf\n",
    "    '''\n",
    "    margin = 1\n",
    "    return K.mean(y_true * K.square(y_pred) + (1 - y_true) * K.square(K.maximum(margin - y_pred, 0)))\n",
    "\n",
    "\n",
    "def create_base_network_signet(input_shape):\n",
    "    '''Base Siamese Network'''\n",
    "    \n",
    "    seq = Sequential()\n",
    "    seq.add(Conv2D(96, kernel_size=(11, 11), activation='relu', name='conv1_1', strides=4, input_shape= input_shape, \n",
    "                        init='glorot_uniform', dim_ordering='tf'))\n",
    "    seq.add(BatchNormalization(epsilon=1e-06, mode=0, axis=1, momentum=0.9))\n",
    "    seq.add(MaxPooling2D((3,3), strides=(2, 2)))    \n",
    "    seq.add(ZeroPadding2D((2, 2), dim_ordering='tf'))\n",
    "    \n",
    "    seq.add(Conv2D(256, kernel_size=(5, 5), activation='relu', name='conv2_1', strides=1, init='glorot_uniform',  dim_ordering='tf'))\n",
    "    seq.add(BatchNormalization(epsilon=1e-06, mode=0, axis=1, momentum=0.9))\n",
    "    seq.add(MaxPooling2D((3,3), strides=(2, 2)))\n",
    "    seq.add(Dropout(0.3))# added extra\n",
    "    seq.add(ZeroPadding2D((1, 1), dim_ordering='tf'))\n",
    "    \n",
    "    seq.add(Conv2D(384, kernel_size=(3, 3), activation='relu', name='conv3_1', strides=1, init='glorot_uniform',  dim_ordering='tf'))\n",
    "    seq.add(ZeroPadding2D((1, 1), dim_ordering='tf'))\n",
    "    \n",
    "    seq.add(Conv2D(256, kernel_size=(3, 3), activation='relu', name='conv3_2', strides=1, init='glorot_uniform', dim_ordering='tf'))    \n",
    "    seq.add(MaxPooling2D((3,3), strides=(2, 2)))\n",
    "    seq.add(Dropout(0.3))# added extra\n",
    "    seq.add(Flatten(name='flatten'))\n",
    "    seq.add(Dense(1024, W_regularizer=l2(0.0005), activation='relu', init='glorot_uniform'))\n",
    "    seq.add(Dropout(0.5))\n",
    "    \n",
    "    seq.add(Dense(128, W_regularizer=l2(0.0005), activation='relu', init='glorot_uniform')) # softmax changed to relu\n",
    "    \n",
    "    return seq\n",
    "\n",
    "\n",
    "input_shape=(img_h, img_w, 1)\n",
    "\n",
    "# network definition\n",
    "base_network = create_base_network_signet(input_shape)\n",
    "\n",
    "input_a = Input(shape=(input_shape))\n",
    "input_b = Input(shape=(input_shape))\n",
    "\n",
    "# because we re-use the same instance `base_network`,\n",
    "# the weights of the network\n",
    "# will be shared across the two branches\n",
    "processed_a = base_network(input_a)\n",
    "processed_b = base_network(input_b)\n",
    "\n",
    "# Compute the Euclidean distance between the two vectors in the latent space\n",
    "distance = Lambda(euclidean_distance, output_shape=eucl_dist_output_shape)([processed_a, processed_b])\n",
    "\n",
    "p_model = Model(input=[input_a, input_b], output=distance, name = 'head_model')\n"
   ]
  },
  {
   "cell_type": "code",
   "execution_count": 25,
   "metadata": {
    "colab": {
     "base_uri": "https://localhost:8080/",
     "height": 345
    },
    "colab_type": "code",
    "id": "OPWiWKr5A2kb",
    "outputId": "9517e105-076e-41c9-c600-a6fd429c4c3a"
   },
   "outputs": [
    {
     "name": "stdout",
     "output_type": "stream",
     "text": [
      "Model: \"head_model\"\n",
      "__________________________________________________________________________________________________\n",
      "Layer (type)                    Output Shape         Param #     Connected to                     \n",
      "==================================================================================================\n",
      "input_1 (InputLayer)            (None, 155, 220, 1)  0                                            \n",
      "__________________________________________________________________________________________________\n",
      "input_2 (InputLayer)            (None, 155, 220, 1)  0                                            \n",
      "__________________________________________________________________________________________________\n",
      "sequential_2 (Sequential)       (None, 128)          6461084     input_1[0][0]                    \n",
      "                                                                 input_2[0][0]                    \n",
      "__________________________________________________________________________________________________\n",
      "lambda_1 (Lambda)               (None, 1)            0           sequential_2[1][0]               \n",
      "                                                                 sequential_2[2][0]               \n",
      "==================================================================================================\n",
      "Total params: 6,461,084\n",
      "Trainable params: 6,460,974\n",
      "Non-trainable params: 110\n",
      "__________________________________________________________________________________________________\n"
     ]
    }
   ],
   "source": [
    "num_train_samples = 276*120 + 300*120\n",
    "num_val_samples = num_test_samples = 276*20 + 300*20\n",
    "num_train_samples, num_val_samples, num_test_samples\n",
    "\n",
    "# compile model using RMSProp Optimizer and Contrastive loss function defined above\n",
    "rms = RMSprop(lr=1e-4, rho=0.9, epsilon=1e-08)\n",
    "p_model.compile(loss=contrastive_loss, optimizer=rms)\n",
    "p_model.summary()"
   ]
  },
  {
   "cell_type": "code",
   "execution_count": 27,
   "metadata": {
    "colab": {
     "base_uri": "https://localhost:8080/",
     "height": 745
    },
    "colab_type": "code",
    "id": "lBxjReuGA76W",
    "outputId": "a81e6fb9-a4c2-4a4c-957e-2a170e1a97ea"
   },
   "outputs": [
    {
     "name": "stdout",
     "output_type": "stream",
     "text": [
      "Epoch 1/10\n",
      "540/540 [==============================] - 263s 488ms/step - loss: 1.0866 - val_loss: 0.3226\n",
      "\n",
      "Epoch 00001: saving model to signet-bhsig260-full-xavier-001.h5\n",
      "Epoch 2/10\n",
      "540/540 [==============================] - 257s 477ms/step - loss: 0.0752 - val_loss: 0.1579\n",
      "\n",
      "Epoch 00002: saving model to signet-bhsig260-full-xavier-002.h5\n",
      "Epoch 3/10\n",
      "540/540 [==============================] - 260s 481ms/step - loss: 0.0075 - val_loss: 0.1678\n",
      "\n",
      "Epoch 00003: saving model to signet-bhsig260-full-xavier-003.h5\n",
      "Epoch 4/10\n",
      "540/540 [==============================] - 253s 469ms/step - loss: 0.0017 - val_loss: 0.1684\n",
      "\n",
      "Epoch 00004: saving model to signet-bhsig260-full-xavier-004.h5\n",
      "Epoch 5/10\n",
      "540/540 [==============================] - 257s 476ms/step - loss: 5.8008e-04 - val_loss: 0.2052\n",
      "\n",
      "Epoch 00005: saving model to signet-bhsig260-full-xavier-005.h5\n",
      "Epoch 6/10\n",
      "540/540 [==============================] - 260s 482ms/step - loss: 3.8448e-04 - val_loss: 0.1482\n",
      "\n",
      "Epoch 00006: saving model to signet-bhsig260-full-xavier-006.h5\n",
      "Epoch 7/10\n",
      "540/540 [==============================] - 257s 476ms/step - loss: 2.9922e-04 - val_loss: 0.1831\n",
      "\n",
      "Epoch 00007: saving model to signet-bhsig260-full-xavier-007.h5\n",
      "Epoch 8/10\n",
      "540/540 [==============================] - 263s 487ms/step - loss: 2.1540e-04 - val_loss: 0.1594\n",
      "\n",
      "Epoch 00008: saving model to signet-bhsig260-full-xavier-008.h5\n",
      "Epoch 9/10\n",
      "540/540 [==============================] - 266s 493ms/step - loss: 1.3419e-04 - val_loss: 0.1313\n",
      "\n",
      "Epoch 00009: saving model to signet-bhsig260-full-xavier-009.h5\n",
      "Epoch 10/10\n",
      "540/540 [==============================] - 265s 490ms/step - loss: 2.5734e-04 - val_loss: 0.1209\n",
      "\n",
      "Epoch 00010: saving model to signet-bhsig260-full-xavier-010.h5\n"
     ]
    }
   ],
   "source": [
    "callbacks = [\n",
    "    EarlyStopping(patience=15, verbose=1),\n",
    "    ReduceLROnPlateau(factor=0.1, patience=5, min_lr=0.000001, verbose=1),\n",
    "    ModelCheckpoint('signet-bhsig260-full-xavier-{epoch:03d}.h5', verbose=1, save_weights_only=True)\n",
    "]\n",
    "batch_sz = 128\n",
    "results = p_model.fit_generator(generate_batch(orig_train, forg_train, batch_sz),\n",
    "                              steps_per_epoch = num_train_samples//batch_sz,\n",
    "                              epochs = 10,\n",
    "                              validation_data = generate_batch(orig_val, forg_val, batch_sz),\n",
    "                              validation_steps = num_val_samples//batch_sz,\n",
    "                              callbacks = callbacks)"
   ]
  },
  {
   "cell_type": "code",
   "execution_count": 28,
   "metadata": {
    "colab": {
     "base_uri": "https://localhost:8080/",
     "height": 363
    },
    "colab_type": "code",
    "id": "TRRstrdNKzIg",
    "outputId": "b2fcd15d-50b2-441f-b85d-1a33beb12647"
   },
   "outputs": [
    {
     "name": "stdout",
     "output_type": "stream",
     "text": [
      "'Automatic Signature Stability Analysis And Verification Using Local Features.ipynb'\n",
      " Automatic-Signature-Stability-Analysis-And-Verification-Using-Local-Features.pdf\n",
      " CNN_BHSig260.ipynb\n",
      " \u001b[0m\u001b[01;34minput_data\u001b[0m/\n",
      "'Kernel Based Classifier.ipynb'\n",
      " modifyBHSig260.py\n",
      " README.md\n",
      " \u001b[01;34mResults\u001b[0m/\n",
      " Siamese_BHSig260.ipynb\n",
      " signet-bhsig260-full-xavier-001.h5\n",
      " signet-bhsig260-full-xavier-002.h5\n",
      " signet-bhsig260-full-xavier-003.h5\n",
      " signet-bhsig260-full-xavier-004.h5\n",
      " signet-bhsig260-full-xavier-005.h5\n",
      " signet-bhsig260-full-xavier-006.h5\n",
      " signet-bhsig260-full-xavier-007.h5\n",
      " signet-bhsig260-full-xavier-008.h5\n",
      " signet-bhsig260-full-xavier-009.h5\n",
      " signet-bhsig260-full-xavier-010.h5\n"
     ]
    }
   ],
   "source": [
    "# ls"
   ]
  },
  {
   "cell_type": "code",
   "execution_count": 0,
   "metadata": {
    "colab": {},
    "colab_type": "code",
    "id": "ZEBSWy2JLjSq"
   },
   "outputs": [],
   "source": [
    "# from google.colab import files"
   ]
  },
  {
   "cell_type": "code",
   "execution_count": 0,
   "metadata": {
    "colab": {},
    "colab_type": "code",
    "id": "VPft_2_xBE0O"
   },
   "outputs": [],
   "source": [
    "def compute_accuracy_roc(predictions, labels, plot_far_frr =False):\n",
    "    '''\n",
    "    Compute ROC accuracy with a range of thresholds on distances.\n",
    "    Plot FAR-FRR curves and P-R curves to monitor performance of model on input set.\n",
    "    '''\n",
    "    dmax = np.max(predictions)\n",
    "    dmin = np.min(predictions)\n",
    "    nsame = np.sum(labels == 1) #similar\n",
    "    ndiff = np.sum(labels == 0) #different\n",
    "    step = 0.01\n",
    "    max_acc = 0\n",
    "    best_thresh = -1\n",
    "    frr_plot = []\n",
    "    far_plot = []\n",
    "    pr_plot = []\n",
    "    re_plot = []\n",
    "    ds = []\n",
    "    for d in np.arange(dmin, dmax+step, step):\n",
    "        idx1 = predictions.ravel() <= d #guessed genuine\n",
    "        idx2 = predictions.ravel() > d #guessed forged\n",
    "        tp = float(np.sum(labels[idx1] == 1))\n",
    "        tn = float(np.sum(labels[idx2] == 0))\n",
    "        fp = float(np.sum(labels[idx1] == 0))\n",
    "        fn = float(np.sum(labels[idx2] == 1))\n",
    "#         print(tp, tn, fp, fn)\n",
    "        tpr = float(np.sum(labels[idx1] == 1)) / nsame       \n",
    "        tnr = float(np.sum(labels[idx2] == 0)) / ndiff\n",
    "        \n",
    "        \n",
    "        acc = 0.5 * (tpr + tnr)\n",
    "        pr = tp / (tp + fp)\n",
    "        re = tp / (tp + fn)\n",
    "#       print ('ROC', acc, tpr, tnr)\n",
    "       \n",
    "        if (acc > max_acc):\n",
    "            max_acc, best_thresh = acc, d\n",
    "        \n",
    "        #if (fp+tn) != 0.0 and (fn+tp) != 0.0:\n",
    "        far = fp / (fp + tn)\n",
    "        frr = fn / (fn + tp)\n",
    "        frr_plot.append(frr)\n",
    "        pr_plot.append(pr)\n",
    "        re_plot.append(re)\n",
    "        far_plot.append(far)\n",
    "        ds.append(d)\n",
    "            \n",
    "    \n",
    "    if plot_far_frr:\n",
    "        fig = plt.figure(figsize = (10,10))\n",
    "        ax = fig.add_subplot(121)\n",
    "        ax.plot(ds, far_plot, color = 'red')\n",
    "        ax.plot(ds, frr_plot, color = 'blue')\n",
    "        ax.set_title('Error rate')\n",
    "        ax.legend(['FAR', 'FRR'])\n",
    "        ax.set(xlabel = 'Thresholds', ylabel = 'Error rate')\n",
    "        \n",
    "        ax1 = fig.add_subplot(122)\n",
    "        ax1.plot(ds, pr_plot, color = 'green')\n",
    "        ax1.plot(ds, re_plot, color = 'magenta')\n",
    "        ax1.set_title('P-R curve')\n",
    "        ax1.legend(['Precision', 'Recall'])\n",
    "        ax.set(xlabel = 'Thresholds', ylabel = 'Error rate')\n",
    "        \n",
    "        plt.show()\n",
    "    return max_acc, best_thresh\n",
    "\n",
    "\n",
    "def load_and_check_model(weight):\n",
    "    \"\"\"\n",
    "    Print validation Accuracy for all saved weights and choose the best for test set\n",
    "    (TODO - Perform Ensemble of Weights)\n",
    "    \"\"\"\n",
    "    p_model.load_weights(weight)\n",
    "\n",
    "    val_gen = generate_batch(orig_val, forg_val, 1)\n",
    "    pred, tr_y = [], []\n",
    "    for i in range(num_val_samples):\n",
    "        (img1, img2), label = next(val_gen)\n",
    "        tr_y.append(label)\n",
    "        pred.append(p_model.predict([img1, img2])[0][0])\n",
    "\n",
    "    tr_acc, threshold = compute_accuracy_roc(np.array(pred), np.array(tr_y))\n",
    "    return tr_acc, threshold\n",
    "\n"
   ]
  },
  {
   "cell_type": "code",
   "execution_count": 60,
   "metadata": {
    "colab": {
     "base_uri": "https://localhost:8080/",
     "height": 363
    },
    "colab_type": "code",
    "id": "i6JqEZZiOnEk",
    "outputId": "9b1225ee-80d0-4f63-cf12-56993eebae70"
   },
   "outputs": [
    {
     "name": "stdout",
     "output_type": "stream",
     "text": [
      "'Automatic Signature Stability Analysis And Verification Using Local Features.ipynb'\n",
      " Automatic-Signature-Stability-Analysis-And-Verification-Using-Local-Features.pdf\n",
      " CNN_BHSig260.ipynb\n",
      " \u001b[0m\u001b[01;34minput_data\u001b[0m/\n",
      "'Kernel Based Classifier.ipynb'\n",
      " modifyBHSig260.py\n",
      " README.md\n",
      " \u001b[01;34mResults\u001b[0m/\n",
      " Siamese_BHSig260.ipynb\n",
      " signet-bhsig260-full-xavier-001.h5\n",
      " signet-bhsig260-full-xavier-002.h5\n",
      " signet-bhsig260-full-xavier-003.h5\n",
      " signet-bhsig260-full-xavier-004.h5\n",
      " signet-bhsig260-full-xavier-005.h5\n",
      " signet-bhsig260-full-xavier-006.h5\n",
      " signet-bhsig260-full-xavier-007.h5\n",
      " signet-bhsig260-full-xavier-008.h5\n",
      " signet-bhsig260-full-xavier-009.h5\n",
      " signet-bhsig260-full-xavier-010.h5\n"
     ]
    }
   ],
   "source": [
    "# ls"
   ]
  },
  {
   "cell_type": "code",
   "execution_count": 0,
   "metadata": {
    "colab": {
     "base_uri": "https://localhost:8080/",
     "height": 35
    },
    "colab_type": "code",
    "id": "0L_EUDeJPA5G",
    "outputId": "b104c02a-db8c-4dfd-aaac-0c97c55a8d8d"
   },
   "outputs": [
    {
     "name": "stdout",
     "output_type": "stream",
     "text": [
      "For model 1 Validation Accuracy =  88.91334568626237 %\n"
     ]
    }
   ],
   "source": [
    "acc_thresh = []\n",
    "for i in range(1,39,1):\n",
    "    acc_thresh.append(load_and_check_model('signet-bhsig260-full-xavier-'+str(i).zfill(3)+'.h5'))\n",
    "    print('For model '+str(i)+' Validation Accuracy = ',acc_thresh[i-1][0]*100,'%')"
   ]
  },
  {
   "cell_type": "code",
   "execution_count": 0,
   "metadata": {
    "colab": {},
    "colab_type": "code",
    "id": "m7tWmJffFwZE"
   },
   "outputs": [],
   "source": [
    "def test_model(weight):\n",
    "    model.load_weights(weight)\n",
    "\n",
    "    test_gen = generate_batch(orig_test, forg_test, 1)\n",
    "    pred, tr_y = [], []\n",
    "    for i in range(num_test_samples):\n",
    "        (img1, img2), label = next(test_gen)\n",
    "        tr_y.append(label)\n",
    "        pred.append(model.predict([img1, img2])[0][0])\n",
    "\n",
    "    tr_acc, threshold = compute_accuracy_roc(np.array(pred), np.array(tr_y), plot_far_frr = True)\n",
    "    return tr_acc, threshold\n",
    "\n",
    "acc, threshold = test_model('signet-bhsig260-full-010.h5')\n",
    "acc, threshold"
   ]
  },
  {
   "cell_type": "code",
   "execution_count": 0,
   "metadata": {
    "colab": {},
    "colab_type": "code",
    "id": "sJKGXGFiGBwf"
   },
   "outputs": [],
   "source": [
    "# Accuracy = 86.68% and Threshold = 0.71 Using Xavier Initialisation on Uniform distribution\n",
    "# Thus if the difference score is less than 0.71 we predict the test image as Genuine and if the difference score is greater than 0.71 we predict it to be as forged\n",
    "\n",
    "\n",
    "def predict_score():\n",
    "    '''Predict distance score and classify test images as Genuine or Forged'''\n",
    "    test_gen = generate_batch(orig_test, forg_test, 1)\n",
    "    test_point, test_label = next(test_gen)\n",
    "    img1, img2 = test_point[0], test_point[1]\n",
    "    \n",
    "    fig, (ax1, ax2) = plt.subplots(1, 2, figsize = (10, 10))\n",
    "    ax1.imshow(np.squeeze(img1), cmap='gray')\n",
    "    ax2.imshow(np.squeeze(img2), cmap='gray')\n",
    "    ax1.set_title('Genuine')\n",
    "    if test_label == 1:\n",
    "        ax2.set_title('Genuine')\n",
    "    else:\n",
    "        ax2.set_title('Forged')\n",
    "    ax1.axis('off')\n",
    "    ax2.axis('off')\n",
    "    plt.show()\n",
    "    result = model.predict([img1, img2])\n",
    "    diff = result[0][0]\n",
    "    print(\"Difference Score = \", diff)\n",
    "    if diff > threshold:\n",
    "        print(\"Its a Forged Signature\")\n",
    "    else:\n",
    "        print(\"Its a Genuine Signature\")\n",
    "\n",
    "predict_score()"
   ]
  },
  {
   "cell_type": "code",
   "execution_count": 0,
   "metadata": {
    "colab": {},
    "colab_type": "code",
    "id": "NtXQdXhxGytc"
   },
   "outputs": [],
   "source": []
  }
 ],
 "metadata": {
  "accelerator": "GPU",
  "colab": {
   "collapsed_sections": [],
   "name": "Signature Forgery Detection",
   "provenance": []
  },
  "kernelspec": {
   "display_name": "Python 3",
   "language": "python",
   "name": "python3"
  },
  "language_info": {
   "codemirror_mode": {
    "name": "ipython",
    "version": 3
   },
   "file_extension": ".py",
   "mimetype": "text/x-python",
   "name": "python",
   "nbconvert_exporter": "python",
   "pygments_lexer": "ipython3",
   "version": "3.6.9"
  }
 },
 "nbformat": 4,
 "nbformat_minor": 1
}
